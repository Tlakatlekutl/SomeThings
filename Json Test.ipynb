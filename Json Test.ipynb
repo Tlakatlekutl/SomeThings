{
 "cells": [
  {
   "cell_type": "code",
   "execution_count": 1,
   "metadata": {
    "collapsed": true
   },
   "outputs": [],
   "source": [
    "%matplotlib inline"
   ]
  },
  {
   "cell_type": "code",
   "execution_count": 2,
   "metadata": {
    "collapsed": true
   },
   "outputs": [],
   "source": [
    "import pandas as pd\n",
    "import json\n",
    "from pandas.io.json import json_normalize\n",
    "import matplotlib.pyplot as plt\n",
    "import seaborn as sns"
   ]
  },
  {
   "cell_type": "code",
   "execution_count": 3,
   "metadata": {
    "collapsed": false
   },
   "outputs": [
    {
     "data": {
      "text/html": [
       "<div>\n",
       "<table border=\"1\" class=\"dataframe\">\n",
       "  <thead>\n",
       "    <tr style=\"text-align: right;\">\n",
       "      <th></th>\n",
       "      <th>champion</th>\n",
       "      <th>lane</th>\n",
       "      <th>matchId</th>\n",
       "      <th>platformId</th>\n",
       "      <th>queue</th>\n",
       "      <th>region</th>\n",
       "      <th>role</th>\n",
       "      <th>season</th>\n",
       "      <th>timestamp</th>\n",
       "    </tr>\n",
       "  </thead>\n",
       "  <tbody>\n",
       "    <tr>\n",
       "      <th>0</th>\n",
       "      <td>75</td>\n",
       "      <td>TOP</td>\n",
       "      <td>121864211</td>\n",
       "      <td>RU</td>\n",
       "      <td>RANKED_FLEX_SR</td>\n",
       "      <td>RU</td>\n",
       "      <td>SOLO</td>\n",
       "      <td>PRESEASON2017</td>\n",
       "      <td>1482256007523</td>\n",
       "    </tr>\n",
       "    <tr>\n",
       "      <th>1</th>\n",
       "      <td>29</td>\n",
       "      <td>BOTTOM</td>\n",
       "      <td>121863856</td>\n",
       "      <td>RU</td>\n",
       "      <td>RANKED_FLEX_SR</td>\n",
       "      <td>RU</td>\n",
       "      <td>DUO_CARRY</td>\n",
       "      <td>PRESEASON2017</td>\n",
       "      <td>1482253905257</td>\n",
       "    </tr>\n",
       "    <tr>\n",
       "      <th>2</th>\n",
       "      <td>57</td>\n",
       "      <td>TOP</td>\n",
       "      <td>121873428</td>\n",
       "      <td>RU</td>\n",
       "      <td>RANKED_FLEX_SR</td>\n",
       "      <td>RU</td>\n",
       "      <td>SOLO</td>\n",
       "      <td>PRESEASON2017</td>\n",
       "      <td>1482251917961</td>\n",
       "    </tr>\n",
       "    <tr>\n",
       "      <th>3</th>\n",
       "      <td>157</td>\n",
       "      <td>TOP</td>\n",
       "      <td>121678633</td>\n",
       "      <td>RU</td>\n",
       "      <td>RANKED_FLEX_SR</td>\n",
       "      <td>RU</td>\n",
       "      <td>SOLO</td>\n",
       "      <td>PRESEASON2017</td>\n",
       "      <td>1482082100878</td>\n",
       "    </tr>\n",
       "    <tr>\n",
       "      <th>4</th>\n",
       "      <td>53</td>\n",
       "      <td>BOTTOM</td>\n",
       "      <td>121668112</td>\n",
       "      <td>RU</td>\n",
       "      <td>RANKED_FLEX_SR</td>\n",
       "      <td>RU</td>\n",
       "      <td>DUO_SUPPORT</td>\n",
       "      <td>PRESEASON2017</td>\n",
       "      <td>1482079041065</td>\n",
       "    </tr>\n",
       "  </tbody>\n",
       "</table>\n",
       "</div>"
      ],
      "text/plain": [
       "   champion    lane    matchId platformId           queue region         role  \\\n",
       "0        75     TOP  121864211         RU  RANKED_FLEX_SR     RU         SOLO   \n",
       "1        29  BOTTOM  121863856         RU  RANKED_FLEX_SR     RU    DUO_CARRY   \n",
       "2        57     TOP  121873428         RU  RANKED_FLEX_SR     RU         SOLO   \n",
       "3       157     TOP  121678633         RU  RANKED_FLEX_SR     RU         SOLO   \n",
       "4        53  BOTTOM  121668112         RU  RANKED_FLEX_SR     RU  DUO_SUPPORT   \n",
       "\n",
       "          season      timestamp  \n",
       "0  PRESEASON2017  1482256007523  \n",
       "1  PRESEASON2017  1482253905257  \n",
       "2  PRESEASON2017  1482251917961  \n",
       "3  PRESEASON2017  1482082100878  \n",
       "4  PRESEASON2017  1482079041065  "
      ]
     },
     "execution_count": 3,
     "metadata": {},
     "output_type": "execute_result"
    }
   ],
   "source": [
    "with open('match_list.json') as data_file:\n",
    "    data = json.load(data_file)\n",
    "\n",
    "result = json_normalize(data, 'matches')\n",
    "\n",
    "result.head()"
   ]
  },
  {
   "cell_type": "code",
   "execution_count": 4,
   "metadata": {
    "collapsed": false
   },
   "outputs": [
    {
     "data": {
      "text/plain": [
       "TOP       71\n",
       "JUNGLE    52\n",
       "BOTTOM    12\n",
       "MID       11\n",
       "Name: lane, dtype: int64"
      ]
     },
     "execution_count": 4,
     "metadata": {},
     "output_type": "execute_result"
    }
   ],
   "source": [
    "c_line = result['lane'].value_counts()\n",
    "c_line"
   ]
  },
  {
   "cell_type": "code",
   "execution_count": 5,
   "metadata": {
    "collapsed": false
   },
   "outputs": [
    {
     "data": {
      "text/plain": [
       "<matplotlib.axes._subplots.AxesSubplot at 0x7ff93df20400>"
      ]
     },
     "execution_count": 5,
     "metadata": {},
     "output_type": "execute_result"
    },
    {
     "data": {
      "image/png": "[encoded data removed]",
      "text/plain": [
       "<matplotlib.figure.Figure at 0x7ff93e3c7550>"
      ]
     },
     "metadata": {},
     "output_type": "display_data"
    }
   ],
   "source": [
    "sns.distplot(c_line, hist=False)"
   ]
  },
  {
   "cell_type": "code",
   "execution_count": 6,
   "metadata": {
    "collapsed": false
   },
   "outputs": [
    {
     "data": {
      "text/plain": [
       "array([71, 52, 12, 11])"
      ]
     },
     "execution_count": 6,
     "metadata": {},
     "output_type": "execute_result"
    }
   ],
   "source": [
    "import numpy as np\n",
    "np.array(c_line)"
   ]
  },
  {
   "cell_type": "code",
   "execution_count": 7,
   "metadata": {
    "collapsed": false
   },
   "outputs": [
    {
     "data": {
      "text/plain": [
       "<matplotlib.axes._subplots.AxesSubplot at 0x7ff93bca79b0>"
      ]
     },
     "execution_count": 7,
     "metadata": {},
     "output_type": "execute_result"
    },
    {
     "data": {
      "image/png": "[encoded data removed]",
      "text/plain": [
       "<matplotlib.figure.Figure at 0x7ff93ded0208>"
      ]
     },
     "metadata": {},
     "output_type": "display_data"
    }
   ],
   "source": [
    "c_line.plot(kind='bar')"
   ]
  },
  {
   "cell_type": "code",
   "execution_count": 8,
   "metadata": {
    "collapsed": false
   },
   "outputs": [
    {
     "data": {
      "text/plain": [
       "<matplotlib.axes._subplots.AxesSubplot at 0x7ff93bcd75c0>"
      ]
     },
     "execution_count": 8,
     "metadata": {},
     "output_type": "execute_result"
    },
    {
     "data": {
      "image/png": "[encoded data removed]",
      "text/plain": [
       "<matplotlib.figure.Figure at 0x7ff93de50828>"
      ]
     },
     "metadata": {},
     "output_type": "display_data"
    }
   ],
   "source": [
    "sns.countplot(x='lane', data=result, hue='role')"
   ]
  },
  {
   "cell_type": "code",
   "execution_count": 9,
   "metadata": {
    "collapsed": false
   },
   "outputs": [
    {
     "data": {
      "text/html": [
       "<div>\n",
       "<table border=\"1\" class=\"dataframe\">\n",
       "  <thead>\n",
       "    <tr style=\"text-align: right;\">\n",
       "      <th></th>\n",
       "      <th>champion</th>\n",
       "      <th>lane</th>\n",
       "      <th>matchId</th>\n",
       "      <th>platformId</th>\n",
       "      <th>queue</th>\n",
       "      <th>region</th>\n",
       "      <th>role</th>\n",
       "      <th>season</th>\n",
       "      <th>timestamp</th>\n",
       "    </tr>\n",
       "  </thead>\n",
       "  <tbody>\n",
       "    <tr>\n",
       "      <th>0</th>\n",
       "      <td>75</td>\n",
       "      <td>TOP</td>\n",
       "      <td>121864211</td>\n",
       "      <td>RU</td>\n",
       "      <td>RANKED_FLEX_SR</td>\n",
       "      <td>RU</td>\n",
       "      <td>SOLO</td>\n",
       "      <td>PRESEASON2017</td>\n",
       "      <td>1482256007523</td>\n",
       "    </tr>\n",
       "    <tr>\n",
       "      <th>1</th>\n",
       "      <td>29</td>\n",
       "      <td>BOTTOM</td>\n",
       "      <td>121863856</td>\n",
       "      <td>RU</td>\n",
       "      <td>RANKED_FLEX_SR</td>\n",
       "      <td>RU</td>\n",
       "      <td>DUO_CARRY</td>\n",
       "      <td>PRESEASON2017</td>\n",
       "      <td>1482253905257</td>\n",
       "    </tr>\n",
       "    <tr>\n",
       "      <th>2</th>\n",
       "      <td>57</td>\n",
       "      <td>TOP</td>\n",
       "      <td>121873428</td>\n",
       "      <td>RU</td>\n",
       "      <td>RANKED_FLEX_SR</td>\n",
       "      <td>RU</td>\n",
       "      <td>SOLO</td>\n",
       "      <td>PRESEASON2017</td>\n",
       "      <td>1482251917961</td>\n",
       "    </tr>\n",
       "    <tr>\n",
       "      <th>3</th>\n",
       "      <td>157</td>\n",
       "      <td>TOP</td>\n",
       "      <td>121678633</td>\n",
       "      <td>RU</td>\n",
       "      <td>RANKED_FLEX_SR</td>\n",
       "      <td>RU</td>\n",
       "      <td>SOLO</td>\n",
       "      <td>PRESEASON2017</td>\n",
       "      <td>1482082100878</td>\n",
       "    </tr>\n",
       "    <tr>\n",
       "      <th>4</th>\n",
       "      <td>53</td>\n",
       "      <td>BOTTOM</td>\n",
       "      <td>121668112</td>\n",
       "      <td>RU</td>\n",
       "      <td>RANKED_FLEX_SR</td>\n",
       "      <td>RU</td>\n",
       "      <td>DUO_SUPPORT</td>\n",
       "      <td>PRESEASON2017</td>\n",
       "      <td>1482079041065</td>\n",
       "    </tr>\n",
       "  </tbody>\n",
       "</table>\n",
       "</div>"
      ],
      "text/plain": [
       "   champion    lane    matchId platformId           queue region         role  \\\n",
       "0        75     TOP  121864211         RU  RANKED_FLEX_SR     RU         SOLO   \n",
       "1        29  BOTTOM  121863856         RU  RANKED_FLEX_SR     RU    DUO_CARRY   \n",
       "2        57     TOP  121873428         RU  RANKED_FLEX_SR     RU         SOLO   \n",
       "3       157     TOP  121678633         RU  RANKED_FLEX_SR     RU         SOLO   \n",
       "4        53  BOTTOM  121668112         RU  RANKED_FLEX_SR     RU  DUO_SUPPORT   \n",
       "\n",
       "          season      timestamp  \n",
       "0  PRESEASON2017  1482256007523  \n",
       "1  PRESEASON2017  1482253905257  \n",
       "2  PRESEASON2017  1482251917961  \n",
       "3  PRESEASON2017  1482082100878  \n",
       "4  PRESEASON2017  1482079041065  "
      ]
     },
     "execution_count": 9,
     "metadata": {},
     "output_type": "execute_result"
    }
   ],
   "source": [
    "result.head()"
   ]
  },
  {
   "cell_type": "code",
   "execution_count": 10,
   "metadata": {
    "collapsed": false
   },
   "outputs": [
    {
     "data": {
      "text/html": [
       "<div>\n",
       "<table border=\"1\" class=\"dataframe\">\n",
       "  <thead>\n",
       "    <tr style=\"text-align: right;\">\n",
       "      <th></th>\n",
       "      <th>champion</th>\n",
       "      <th>lane</th>\n",
       "      <th>matchId</th>\n",
       "      <th>platformId</th>\n",
       "      <th>queue</th>\n",
       "      <th>region</th>\n",
       "      <th>role</th>\n",
       "      <th>season</th>\n",
       "      <th>timestamp</th>\n",
       "    </tr>\n",
       "  </thead>\n",
       "  <tbody>\n",
       "    <tr>\n",
       "      <th>0</th>\n",
       "      <td>75</td>\n",
       "      <td>TOP</td>\n",
       "      <td>121864211</td>\n",
       "      <td>RU</td>\n",
       "      <td>RANKED_FLEX_SR</td>\n",
       "      <td>RU</td>\n",
       "      <td>SOLO</td>\n",
       "      <td>PRESEASON2017</td>\n",
       "      <td>1482256007523</td>\n",
       "    </tr>\n",
       "    <tr>\n",
       "      <th>1</th>\n",
       "      <td>29</td>\n",
       "      <td>BOTTOM</td>\n",
       "      <td>121863856</td>\n",
       "      <td>RU</td>\n",
       "      <td>RANKED_FLEX_SR</td>\n",
       "      <td>RU</td>\n",
       "      <td>DUO_CARRY</td>\n",
       "      <td>PRESEASON2017</td>\n",
       "      <td>1482253905257</td>\n",
       "    </tr>\n",
       "    <tr>\n",
       "      <th>2</th>\n",
       "      <td>57</td>\n",
       "      <td>TOP</td>\n",
       "      <td>121873428</td>\n",
       "      <td>RU</td>\n",
       "      <td>RANKED_FLEX_SR</td>\n",
       "      <td>RU</td>\n",
       "      <td>SOLO</td>\n",
       "      <td>PRESEASON2017</td>\n",
       "      <td>1482251917961</td>\n",
       "    </tr>\n",
       "    <tr>\n",
       "      <th>3</th>\n",
       "      <td>157</td>\n",
       "      <td>TOP</td>\n",
       "      <td>121678633</td>\n",
       "      <td>RU</td>\n",
       "      <td>RANKED_FLEX_SR</td>\n",
       "      <td>RU</td>\n",
       "      <td>SOLO</td>\n",
       "      <td>PRESEASON2017</td>\n",
       "      <td>1482082100878</td>\n",
       "    </tr>\n",
       "    <tr>\n",
       "      <th>4</th>\n",
       "      <td>53</td>\n",
       "      <td>BOTTOM</td>\n",
       "      <td>121668112</td>\n",
       "      <td>RU</td>\n",
       "      <td>RANKED_FLEX_SR</td>\n",
       "      <td>RU</td>\n",
       "      <td>DUO_SUPPORT</td>\n",
       "      <td>PRESEASON2017</td>\n",
       "      <td>1482079041065</td>\n",
       "    </tr>\n",
       "  </tbody>\n",
       "</table>\n",
       "</div>"
      ],
      "text/plain": [
       "   champion    lane    matchId platformId           queue region         role  \\\n",
       "0        75     TOP  121864211         RU  RANKED_FLEX_SR     RU         SOLO   \n",
       "1        29  BOTTOM  121863856         RU  RANKED_FLEX_SR     RU    DUO_CARRY   \n",
       "2        57     TOP  121873428         RU  RANKED_FLEX_SR     RU         SOLO   \n",
       "3       157     TOP  121678633         RU  RANKED_FLEX_SR     RU         SOLO   \n",
       "4        53  BOTTOM  121668112         RU  RANKED_FLEX_SR     RU  DUO_SUPPORT   \n",
       "\n",
       "          season      timestamp  \n",
       "0  PRESEASON2017  1482256007523  \n",
       "1  PRESEASON2017  1482253905257  \n",
       "2  PRESEASON2017  1482251917961  \n",
       "3  PRESEASON2017  1482082100878  \n",
       "4  PRESEASON2017  1482079041065  "
      ]
     },
     "execution_count": 10,
     "metadata": {},
     "output_type": "execute_result"
    }
   ],
   "source": [
    "# result['timestamp'] = pd.to_datetime(result['timestamp'], unit='ms')\n",
    "# result.rename(columns={'timestamp':'date/time'}, inplace=True)\n",
    "result.head()"
   ]
  },
  {
   "cell_type": "code",
   "execution_count": 11,
   "metadata": {
    "collapsed": false
   },
   "outputs": [
    {
     "data": {
      "text/html": [
       "<div>\n",
       "<table border=\"1\" class=\"dataframe\">\n",
       "  <thead>\n",
       "    <tr style=\"text-align: right;\">\n",
       "      <th></th>\n",
       "      <th>champion</th>\n",
       "      <th>lane</th>\n",
       "      <th>matchId</th>\n",
       "      <th>queue</th>\n",
       "      <th>region</th>\n",
       "      <th>role</th>\n",
       "      <th>timestamp</th>\n",
       "    </tr>\n",
       "  </thead>\n",
       "  <tbody>\n",
       "    <tr>\n",
       "      <th>0</th>\n",
       "      <td>75</td>\n",
       "      <td>TOP</td>\n",
       "      <td>121864211</td>\n",
       "      <td>RANKED_FLEX_SR</td>\n",
       "      <td>RU</td>\n",
       "      <td>SOLO</td>\n",
       "      <td>1482256007523</td>\n",
       "    </tr>\n",
       "    <tr>\n",
       "      <th>1</th>\n",
       "      <td>29</td>\n",
       "      <td>BOTTOM</td>\n",
       "      <td>121863856</td>\n",
       "      <td>RANKED_FLEX_SR</td>\n",
       "      <td>RU</td>\n",
       "      <td>DUO_CARRY</td>\n",
       "      <td>1482253905257</td>\n",
       "    </tr>\n",
       "    <tr>\n",
       "      <th>2</th>\n",
       "      <td>57</td>\n",
       "      <td>TOP</td>\n",
       "      <td>121873428</td>\n",
       "      <td>RANKED_FLEX_SR</td>\n",
       "      <td>RU</td>\n",
       "      <td>SOLO</td>\n",
       "      <td>1482251917961</td>\n",
       "    </tr>\n",
       "    <tr>\n",
       "      <th>3</th>\n",
       "      <td>157</td>\n",
       "      <td>TOP</td>\n",
       "      <td>121678633</td>\n",
       "      <td>RANKED_FLEX_SR</td>\n",
       "      <td>RU</td>\n",
       "      <td>SOLO</td>\n",
       "      <td>1482082100878</td>\n",
       "    </tr>\n",
       "    <tr>\n",
       "      <th>4</th>\n",
       "      <td>53</td>\n",
       "      <td>BOTTOM</td>\n",
       "      <td>121668112</td>\n",
       "      <td>RANKED_FLEX_SR</td>\n",
       "      <td>RU</td>\n",
       "      <td>DUO_SUPPORT</td>\n",
       "      <td>1482079041065</td>\n",
       "    </tr>\n",
       "  </tbody>\n",
       "</table>\n",
       "</div>"
      ],
      "text/plain": [
       "   champion    lane    matchId           queue region         role  \\\n",
       "0        75     TOP  121864211  RANKED_FLEX_SR     RU         SOLO   \n",
       "1        29  BOTTOM  121863856  RANKED_FLEX_SR     RU    DUO_CARRY   \n",
       "2        57     TOP  121873428  RANKED_FLEX_SR     RU         SOLO   \n",
       "3       157     TOP  121678633  RANKED_FLEX_SR     RU         SOLO   \n",
       "4        53  BOTTOM  121668112  RANKED_FLEX_SR     RU  DUO_SUPPORT   \n",
       "\n",
       "       timestamp  \n",
       "0  1482256007523  \n",
       "1  1482253905257  \n",
       "2  1482251917961  \n",
       "3  1482082100878  \n",
       "4  1482079041065  "
      ]
     },
     "execution_count": 11,
     "metadata": {},
     "output_type": "execute_result"
    }
   ],
   "source": [
    "result.drop(['season', 'platformId'], axis=1, inplace=True)\n",
    "result.head()"
   ]
  },
  {
   "cell_type": "code",
   "execution_count": 12,
   "metadata": {
    "collapsed": true
   },
   "outputs": [],
   "source": [
    "import requests\n",
    "import json"
   ]
  },
  {
   "cell_type": "code",
   "execution_count": 13,
   "metadata": {
    "collapsed": true
   },
   "outputs": [],
   "source": [
    "url = 'https://global.api.pvp.net/api/lol/static-data/ru/v1.2/champion?api_key='\n",
    "r = requests.get(url)"
   ]
  },
  {
   "cell_type": "code",
   "execution_count": 14,
   "metadata": {
    "collapsed": false
   },
   "outputs": [],
   "source": [
    "c_dat = pd.read_json(url)"
   ]
  },
  {
   "cell_type": "code",
   "execution_count": 15,
   "metadata": {
    "collapsed": false
   },
   "outputs": [],
   "source": [
    "c_dat.drop(['type', 'version'], inplace=True, axis=1)"
   ]
  },
  {
   "cell_type": "code",
   "execution_count": 16,
   "metadata": {
    "collapsed": false
   },
   "outputs": [
    {
     "data": {
      "text/html": [
       "<div>\n",
       "<table border=\"1\" class=\"dataframe\">\n",
       "  <thead>\n",
       "    <tr style=\"text-align: right;\">\n",
       "      <th></th>\n",
       "      <th>id</th>\n",
       "      <th>key</th>\n",
       "      <th>name</th>\n",
       "      <th>title</th>\n",
       "    </tr>\n",
       "  </thead>\n",
       "  <tbody>\n",
       "    <tr>\n",
       "      <th>Aatrox</th>\n",
       "      <td>266</td>\n",
       "      <td>Aatrox</td>\n",
       "      <td>Атрокс</td>\n",
       "      <td>Клинок даркинов</td>\n",
       "    </tr>\n",
       "    <tr>\n",
       "      <th>Ahri</th>\n",
       "      <td>103</td>\n",
       "      <td>Ahri</td>\n",
       "      <td>Ари</td>\n",
       "      <td>Девятихвостая лиса</td>\n",
       "    </tr>\n",
       "    <tr>\n",
       "      <th>Akali</th>\n",
       "      <td>84</td>\n",
       "      <td>Akali</td>\n",
       "      <td>Акали</td>\n",
       "      <td>Кулак тени</td>\n",
       "    </tr>\n",
       "    <tr>\n",
       "      <th>Alistar</th>\n",
       "      <td>12</td>\n",
       "      <td>Alistar</td>\n",
       "      <td>Алистар</td>\n",
       "      <td>Минотавр</td>\n",
       "    </tr>\n",
       "    <tr>\n",
       "      <th>Amumu</th>\n",
       "      <td>32</td>\n",
       "      <td>Amumu</td>\n",
       "      <td>Амуму</td>\n",
       "      <td>Печальная мумия</td>\n",
       "    </tr>\n",
       "  </tbody>\n",
       "</table>\n",
       "</div>"
      ],
      "text/plain": [
       "          id      key     name               title\n",
       "Aatrox   266   Aatrox   Атрокс     Клинок даркинов\n",
       "Ahri     103     Ahri      Ари  Девятихвостая лиса\n",
       "Akali     84    Akali    Акали          Кулак тени\n",
       "Alistar   12  Alistar  Алистар            Минотавр\n",
       "Amumu     32    Amumu    Амуму     Печальная мумия"
      ]
     },
     "execution_count": 16,
     "metadata": {},
     "output_type": "execute_result"
    }
   ],
   "source": [
    "champion_data = c_dat['data'].apply(pd.Series)\n",
    "champion_data.head()"
   ]
  },
  {
   "cell_type": "code",
   "execution_count": 17,
   "metadata": {
    "collapsed": false
   },
   "outputs": [],
   "source": [
    "df = result.copy()"
   ]
  },
  {
   "cell_type": "code",
   "execution_count": 18,
   "metadata": {
    "collapsed": false
   },
   "outputs": [
    {
     "data": {
      "text/html": [
       "<div>\n",
       "<table border=\"1\" class=\"dataframe\">\n",
       "  <thead>\n",
       "    <tr style=\"text-align: right;\">\n",
       "      <th></th>\n",
       "      <th>champion</th>\n",
       "      <th>lane</th>\n",
       "      <th>matchId</th>\n",
       "      <th>queue</th>\n",
       "      <th>region</th>\n",
       "      <th>role</th>\n",
       "      <th>timestamp</th>\n",
       "    </tr>\n",
       "  </thead>\n",
       "  <tbody>\n",
       "    <tr>\n",
       "      <th>0</th>\n",
       "      <td>75</td>\n",
       "      <td>TOP</td>\n",
       "      <td>121864211</td>\n",
       "      <td>RANKED_FLEX_SR</td>\n",
       "      <td>RU</td>\n",
       "      <td>SOLO</td>\n",
       "      <td>1482256007523</td>\n",
       "    </tr>\n",
       "    <tr>\n",
       "      <th>1</th>\n",
       "      <td>29</td>\n",
       "      <td>BOTTOM</td>\n",
       "      <td>121863856</td>\n",
       "      <td>RANKED_FLEX_SR</td>\n",
       "      <td>RU</td>\n",
       "      <td>DUO_CARRY</td>\n",
       "      <td>1482253905257</td>\n",
       "    </tr>\n",
       "    <tr>\n",
       "      <th>2</th>\n",
       "      <td>57</td>\n",
       "      <td>TOP</td>\n",
       "      <td>121873428</td>\n",
       "      <td>RANKED_FLEX_SR</td>\n",
       "      <td>RU</td>\n",
       "      <td>SOLO</td>\n",
       "      <td>1482251917961</td>\n",
       "    </tr>\n",
       "    <tr>\n",
       "      <th>3</th>\n",
       "      <td>157</td>\n",
       "      <td>TOP</td>\n",
       "      <td>121678633</td>\n",
       "      <td>RANKED_FLEX_SR</td>\n",
       "      <td>RU</td>\n",
       "      <td>SOLO</td>\n",
       "      <td>1482082100878</td>\n",
       "    </tr>\n",
       "    <tr>\n",
       "      <th>4</th>\n",
       "      <td>53</td>\n",
       "      <td>BOTTOM</td>\n",
       "      <td>121668112</td>\n",
       "      <td>RANKED_FLEX_SR</td>\n",
       "      <td>RU</td>\n",
       "      <td>DUO_SUPPORT</td>\n",
       "      <td>1482079041065</td>\n",
       "    </tr>\n",
       "  </tbody>\n",
       "</table>\n",
       "</div>"
      ],
      "text/plain": [
       "   champion    lane    matchId           queue region         role  \\\n",
       "0        75     TOP  121864211  RANKED_FLEX_SR     RU         SOLO   \n",
       "1        29  BOTTOM  121863856  RANKED_FLEX_SR     RU    DUO_CARRY   \n",
       "2        57     TOP  121873428  RANKED_FLEX_SR     RU         SOLO   \n",
       "3       157     TOP  121678633  RANKED_FLEX_SR     RU         SOLO   \n",
       "4        53  BOTTOM  121668112  RANKED_FLEX_SR     RU  DUO_SUPPORT   \n",
       "\n",
       "       timestamp  \n",
       "0  1482256007523  \n",
       "1  1482253905257  \n",
       "2  1482251917961  \n",
       "3  1482082100878  \n",
       "4  1482079041065  "
      ]
     },
     "execution_count": 18,
     "metadata": {},
     "output_type": "execute_result"
    }
   ],
   "source": [
    "df.head()"
   ]
  },
  {
   "cell_type": "code",
   "execution_count": 19,
   "metadata": {
    "collapsed": false
   },
   "outputs": [],
   "source": [
    "champion_data.rename(columns={'id': 'champion'}, inplace=True)"
   ]
  },
  {
   "cell_type": "code",
   "execution_count": 20,
   "metadata": {
    "collapsed": false
   },
   "outputs": [],
   "source": [
    "res = pd.merge(result, champion_data, on='champion')"
   ]
  },
  {
   "cell_type": "code",
   "execution_count": 21,
   "metadata": {
    "collapsed": false
   },
   "outputs": [
    {
     "data": {
      "text/html": [
       "<div>\n",
       "<table border=\"1\" class=\"dataframe\">\n",
       "  <thead>\n",
       "    <tr style=\"text-align: right;\">\n",
       "      <th></th>\n",
       "      <th>champion</th>\n",
       "      <th>lane</th>\n",
       "      <th>matchId</th>\n",
       "      <th>queue</th>\n",
       "      <th>region</th>\n",
       "      <th>role</th>\n",
       "      <th>timestamp</th>\n",
       "      <th>key</th>\n",
       "      <th>name</th>\n",
       "      <th>title</th>\n",
       "    </tr>\n",
       "  </thead>\n",
       "  <tbody>\n",
       "    <tr>\n",
       "      <th>0</th>\n",
       "      <td>75</td>\n",
       "      <td>TOP</td>\n",
       "      <td>121864211</td>\n",
       "      <td>RANKED_FLEX_SR</td>\n",
       "      <td>RU</td>\n",
       "      <td>SOLO</td>\n",
       "      <td>1482256007523</td>\n",
       "      <td>Nasus</td>\n",
       "      <td>Насус</td>\n",
       "      <td>Хранитель песков</td>\n",
       "    </tr>\n",
       "    <tr>\n",
       "      <th>1</th>\n",
       "      <td>75</td>\n",
       "      <td>TOP</td>\n",
       "      <td>121656078</td>\n",
       "      <td>RANKED_FLEX_SR</td>\n",
       "      <td>RU</td>\n",
       "      <td>SOLO</td>\n",
       "      <td>1482067141194</td>\n",
       "      <td>Nasus</td>\n",
       "      <td>Насус</td>\n",
       "      <td>Хранитель песков</td>\n",
       "    </tr>\n",
       "    <tr>\n",
       "      <th>2</th>\n",
       "      <td>75</td>\n",
       "      <td>TOP</td>\n",
       "      <td>97338449</td>\n",
       "      <td>TEAM_BUILDER_DRAFT_RANKED_5x5</td>\n",
       "      <td>RU</td>\n",
       "      <td>SOLO</td>\n",
       "      <td>1461244683710</td>\n",
       "      <td>Nasus</td>\n",
       "      <td>Насус</td>\n",
       "      <td>Хранитель песков</td>\n",
       "    </tr>\n",
       "    <tr>\n",
       "      <th>3</th>\n",
       "      <td>75</td>\n",
       "      <td>TOP</td>\n",
       "      <td>96283503</td>\n",
       "      <td>TEAM_BUILDER_DRAFT_RANKED_5x5</td>\n",
       "      <td>RU</td>\n",
       "      <td>SOLO</td>\n",
       "      <td>1460298526867</td>\n",
       "      <td>Nasus</td>\n",
       "      <td>Насус</td>\n",
       "      <td>Хранитель песков</td>\n",
       "    </tr>\n",
       "    <tr>\n",
       "      <th>4</th>\n",
       "      <td>29</td>\n",
       "      <td>BOTTOM</td>\n",
       "      <td>121863856</td>\n",
       "      <td>RANKED_FLEX_SR</td>\n",
       "      <td>RU</td>\n",
       "      <td>DUO_CARRY</td>\n",
       "      <td>1482253905257</td>\n",
       "      <td>Twitch</td>\n",
       "      <td>Твич</td>\n",
       "      <td>Чумная крыса</td>\n",
       "    </tr>\n",
       "  </tbody>\n",
       "</table>\n",
       "</div>"
      ],
      "text/plain": [
       "   champion    lane    matchId                          queue region  \\\n",
       "0        75     TOP  121864211                 RANKED_FLEX_SR     RU   \n",
       "1        75     TOP  121656078                 RANKED_FLEX_SR     RU   \n",
       "2        75     TOP   97338449  TEAM_BUILDER_DRAFT_RANKED_5x5     RU   \n",
       "3        75     TOP   96283503  TEAM_BUILDER_DRAFT_RANKED_5x5     RU   \n",
       "4        29  BOTTOM  121863856                 RANKED_FLEX_SR     RU   \n",
       "\n",
       "        role      timestamp     key   name             title  \n",
       "0       SOLO  1482256007523   Nasus  Насус  Хранитель песков  \n",
       "1       SOLO  1482067141194   Nasus  Насус  Хранитель песков  \n",
       "2       SOLO  1461244683710   Nasus  Насус  Хранитель песков  \n",
       "3       SOLO  1460298526867   Nasus  Насус  Хранитель песков  \n",
       "4  DUO_CARRY  1482253905257  Twitch   Твич      Чумная крыса  "
      ]
     },
     "execution_count": 21,
     "metadata": {},
     "output_type": "execute_result"
    }
   ],
   "source": [
    "res.head()"
   ]
  },
  {
   "cell_type": "code",
   "execution_count": 22,
   "metadata": {
    "collapsed": false
   },
   "outputs": [],
   "source": [
    "res.drop(['champion', 'key', 'title'],axis=1, inplace=True)"
   ]
  },
  {
   "cell_type": "code",
   "execution_count": 23,
   "metadata": {
    "collapsed": false
   },
   "outputs": [
    {
     "data": {
      "text/html": [
       "<div>\n",
       "<table border=\"1\" class=\"dataframe\">\n",
       "  <thead>\n",
       "    <tr style=\"text-align: right;\">\n",
       "      <th></th>\n",
       "      <th>lane</th>\n",
       "      <th>matchId</th>\n",
       "      <th>queue</th>\n",
       "      <th>region</th>\n",
       "      <th>role</th>\n",
       "      <th>timestamp</th>\n",
       "      <th>name</th>\n",
       "    </tr>\n",
       "  </thead>\n",
       "  <tbody>\n",
       "    <tr>\n",
       "      <th>0</th>\n",
       "      <td>TOP</td>\n",
       "      <td>121864211</td>\n",
       "      <td>RANKED_FLEX_SR</td>\n",
       "      <td>RU</td>\n",
       "      <td>SOLO</td>\n",
       "      <td>1482256007523</td>\n",
       "      <td>Насус</td>\n",
       "    </tr>\n",
       "    <tr>\n",
       "      <th>1</th>\n",
       "      <td>TOP</td>\n",
       "      <td>121656078</td>\n",
       "      <td>RANKED_FLEX_SR</td>\n",
       "      <td>RU</td>\n",
       "      <td>SOLO</td>\n",
       "      <td>1482067141194</td>\n",
       "      <td>Насус</td>\n",
       "    </tr>\n",
       "    <tr>\n",
       "      <th>2</th>\n",
       "      <td>TOP</td>\n",
       "      <td>97338449</td>\n",
       "      <td>TEAM_BUILDER_DRAFT_RANKED_5x5</td>\n",
       "      <td>RU</td>\n",
       "      <td>SOLO</td>\n",
       "      <td>1461244683710</td>\n",
       "      <td>Насус</td>\n",
       "    </tr>\n",
       "    <tr>\n",
       "      <th>3</th>\n",
       "      <td>TOP</td>\n",
       "      <td>96283503</td>\n",
       "      <td>TEAM_BUILDER_DRAFT_RANKED_5x5</td>\n",
       "      <td>RU</td>\n",
       "      <td>SOLO</td>\n",
       "      <td>1460298526867</td>\n",
       "      <td>Насус</td>\n",
       "    </tr>\n",
       "    <tr>\n",
       "      <th>4</th>\n",
       "      <td>BOTTOM</td>\n",
       "      <td>121863856</td>\n",
       "      <td>RANKED_FLEX_SR</td>\n",
       "      <td>RU</td>\n",
       "      <td>DUO_CARRY</td>\n",
       "      <td>1482253905257</td>\n",
       "      <td>Твич</td>\n",
       "    </tr>\n",
       "  </tbody>\n",
       "</table>\n",
       "</div>"
      ],
      "text/plain": [
       "     lane    matchId                          queue region       role  \\\n",
       "0     TOP  121864211                 RANKED_FLEX_SR     RU       SOLO   \n",
       "1     TOP  121656078                 RANKED_FLEX_SR     RU       SOLO   \n",
       "2     TOP   97338449  TEAM_BUILDER_DRAFT_RANKED_5x5     RU       SOLO   \n",
       "3     TOP   96283503  TEAM_BUILDER_DRAFT_RANKED_5x5     RU       SOLO   \n",
       "4  BOTTOM  121863856                 RANKED_FLEX_SR     RU  DUO_CARRY   \n",
       "\n",
       "       timestamp   name  \n",
       "0  1482256007523  Насус  \n",
       "1  1482067141194  Насус  \n",
       "2  1461244683710  Насус  \n",
       "3  1460298526867  Насус  \n",
       "4  1482253905257   Твич  "
      ]
     },
     "execution_count": 23,
     "metadata": {},
     "output_type": "execute_result"
    }
   ],
   "source": [
    "res.head()"
   ]
  },
  {
   "cell_type": "code",
   "execution_count": 24,
   "metadata": {
    "collapsed": true
   },
   "outputs": [],
   "source": [
    "res = res[['matchId', 'lane', 'role', 'name']]"
   ]
  },
  {
   "cell_type": "code",
   "execution_count": 25,
   "metadata": {
    "collapsed": false
   },
   "outputs": [
    {
     "data": {
      "text/html": [
       "<div>\n",
       "<table border=\"1\" class=\"dataframe\">\n",
       "  <thead>\n",
       "    <tr style=\"text-align: right;\">\n",
       "      <th></th>\n",
       "      <th>matchId</th>\n",
       "      <th>lane</th>\n",
       "      <th>role</th>\n",
       "      <th>name</th>\n",
       "    </tr>\n",
       "  </thead>\n",
       "  <tbody>\n",
       "    <tr>\n",
       "      <th>0</th>\n",
       "      <td>121864211</td>\n",
       "      <td>TOP</td>\n",
       "      <td>SOLO</td>\n",
       "      <td>Насус</td>\n",
       "    </tr>\n",
       "    <tr>\n",
       "      <th>1</th>\n",
       "      <td>121656078</td>\n",
       "      <td>TOP</td>\n",
       "      <td>SOLO</td>\n",
       "      <td>Насус</td>\n",
       "    </tr>\n",
       "    <tr>\n",
       "      <th>2</th>\n",
       "      <td>97338449</td>\n",
       "      <td>TOP</td>\n",
       "      <td>SOLO</td>\n",
       "      <td>Насус</td>\n",
       "    </tr>\n",
       "    <tr>\n",
       "      <th>3</th>\n",
       "      <td>96283503</td>\n",
       "      <td>TOP</td>\n",
       "      <td>SOLO</td>\n",
       "      <td>Насус</td>\n",
       "    </tr>\n",
       "    <tr>\n",
       "      <th>4</th>\n",
       "      <td>121863856</td>\n",
       "      <td>BOTTOM</td>\n",
       "      <td>DUO_CARRY</td>\n",
       "      <td>Твич</td>\n",
       "    </tr>\n",
       "  </tbody>\n",
       "</table>\n",
       "</div>"
      ],
      "text/plain": [
       "     matchId    lane       role   name\n",
       "0  121864211     TOP       SOLO  Насус\n",
       "1  121656078     TOP       SOLO  Насус\n",
       "2   97338449     TOP       SOLO  Насус\n",
       "3   96283503     TOP       SOLO  Насус\n",
       "4  121863856  BOTTOM  DUO_CARRY   Твич"
      ]
     },
     "execution_count": 25,
     "metadata": {},
     "output_type": "execute_result"
    }
   ],
   "source": [
    "res.head()"
   ]
  },
  {
   "cell_type": "code",
   "execution_count": 26,
   "metadata": {
    "collapsed": false
   },
   "outputs": [
    {
     "data": {
      "text/plain": [
       "<matplotlib.axes._subplots.AxesSubplot at 0x7ff93b30dcc0>"
      ]
     },
     "execution_count": 26,
     "metadata": {},
     "output_type": "execute_result"
    },
    {
     "data": {
      "image/png": "[encoded data removed]",
      "text/plain": [
       "<matplotlib.figure.Figure at 0x7ff93b333630>"
      ]
     },
     "metadata": {},
     "output_type": "display_data"
    }
   ],
   "source": [
    "sns.countplot(y='name', data=res)"
   ]
  },
  {
   "cell_type": "code",
   "execution_count": null,
   "metadata": {
    "collapsed": true
   },
   "outputs": [],
   "source": []
  }
 ],
 "metadata": {
  "kernelspec": {
   "display_name": "Python [Root]",
   "language": "python",
   "name": "Python [Root]"
  },
  "language_info": {
   "codemirror_mode": {
    "name": "ipython",
    "version": 3
   },
   "file_extension": ".py",
   "mimetype": "text/x-python",
   "name": "python",
   "nbconvert_exporter": "python",
   "pygments_lexer": "ipython3",
   "version": "3.5.2"
  }
 },
 "nbformat": 4,
 "nbformat_minor": 2
}
